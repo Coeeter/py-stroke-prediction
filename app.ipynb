{
 "cells": [
  {
   "cell_type": "code",
   "execution_count": 1,
   "metadata": {},
   "outputs": [],
   "source": [
    "from flask import Flask, request, render_template, redirect\n",
    "from joblib import load\n",
    "import numpy as np"
   ]
  },
  {
   "cell_type": "code",
   "execution_count": 2,
   "metadata": {},
   "outputs": [],
   "source": [
    "model = load('models/gbr.joblib')\n",
    "app = Flask(__name__)"
   ]
  },
  {
   "cell_type": "code",
   "execution_count": 3,
   "metadata": {},
   "outputs": [],
   "source": [
    "@app.route('/')\n",
    "def redirect_to_predict():\n",
    "  return redirect('/predict')"
   ]
  },
  {
   "cell_type": "code",
   "execution_count": 4,
   "metadata": {},
   "outputs": [],
   "source": [
    "@app.route('/predict')\n",
    "def predict():\n",
    "\tform = request.args\n",
    "\tif form:\n",
    "\t\tvalues = [\n",
    "\t\t\t1 if form['gender'] == 'F' else 0,\t \t\t\t\t# gender √\n",
    "\t\t\tform['age'], \t\t\t\t\t\t\t\t\t\t\t\t\t\t\t\t# age √\n",
    "\t\t\tform['hypertension'], \t\t\t\t\t\t\t\t\t\t\t# hypertension √\n",
    "\t\t\tform['heart_disease'], \t\t\t\t\t\t\t\t\t\t\t# heart_disease √\n",
    "\t\t\tform['married'], \t\t\t\t\t\t\t\t\t\t\t\t\t\t# ever_married √\n",
    "\t\t\tform['avg_glucose_level'], \t\t\t\t\t\t\t\t\t# avg_glucose_level √\n",
    "\t\t\tform['bmi'], \t\t\t\t\t\t\t\t\t\t\t\t\t\t\t\t# bmi √\n",
    "\t\t\t1 if form['work_type'] == 'G' else 0, \t\t\t# work_type_Govt_job\n",
    "\t\t\t1 if form['work_type'] == 'N' else 0, \t\t\t# work_type_Never_worked\n",
    "\t\t\t1 if form['work_type'] == 'P' else 0, \t\t\t# work_type_Private\n",
    "\t\t\t1 if form['work_type'] == 'S' else 0, \t\t\t# work_type_Self-employed\n",
    "\t\t\t1 if form['work_type'] == 'C' else 0, \t\t\t# work_type_children\n",
    "\t\t\t1 if form['smoking_status'] == 'F' else 0, \t# smoking_status_formerly_smoked\n",
    "\t\t\t1 if form['smoking_status'] == 'N' else 0, \t# smoking_status_never_smoked\n",
    "\t\t\t1 if form['smoking_status'] == 'S' else 0, \t# smoking_status_smokes\n",
    "\t\t\t1 if form['residence_type'] == 'R' else 0, \t# Residence_type_Rural\n",
    "\t\t\t1 if form['residence_type'] == 'U' else 0, \t# Residence_type_Urban\n",
    "\t\t]\n",
    "\t\tprediction = model.predict([values])\n",
    "\t\tprediction = f'{prediction[0] * 100:.2f}%'\n",
    "\t\treturn render_template('index.html', form={**form}, prediction=prediction)\n",
    "\treturn render_template('index.html', form={**form})\n"
   ]
  },
  {
   "cell_type": "code",
   "execution_count": 5,
   "metadata": {},
   "outputs": [
    {
     "name": "stdout",
     "output_type": "stream",
     "text": [
      " * Serving Flask app '__main__'\n",
      " * Debug mode: off\n"
     ]
    },
    {
     "name": "stderr",
     "output_type": "stream",
     "text": [
      "WARNING: This is a development server. Do not use it in a production deployment. Use a production WSGI server instead.\n",
      " * Running on http://127.0.0.1:5000\n",
      "Press CTRL+C to quit\n",
      "127.0.0.1 - - [16/Feb/2023 15:47:01] \"GET /predict?age=12&bmi=23&avg_glucose_level=123&gender=M&married=1&hypertension=1&heart_disease=1&work_type=C&smoking_status=S&residence_type=R HTTP/1.1\" 200 -\n",
      "127.0.0.1 - - [16/Feb/2023 15:47:01] \"GET /static/output.css HTTP/1.1\" 304 -\n",
      "127.0.0.1 - - [16/Feb/2023 15:47:06] \"GET /predict?age=12&bmi=23&avg_glucose_level=123&gender=M&married=1&hypertension=1&heart_disease=1&work_type=C&smoking_status=S&residence_type=R HTTP/1.1\" 200 -\n",
      "127.0.0.1 - - [16/Feb/2023 15:47:06] \"GET /static/output.css HTTP/1.1\" 304 -\n",
      "127.0.0.1 - - [16/Feb/2023 15:47:10] \"GET /predict?age=12&bmi=23&avg_glucose_level=123&gender=M&married=1&hypertension=0&heart_disease=1&work_type=C&smoking_status=S&residence_type=R HTTP/1.1\" 200 -\n",
      "127.0.0.1 - - [16/Feb/2023 15:47:10] \"GET /static/output.css HTTP/1.1\" 304 -\n",
      "127.0.0.1 - - [16/Feb/2023 15:47:16] \"GET /predict?age=12&bmi=23&avg_glucose_level=123&gender=M&married=1&hypertension=0&heart_disease=0&work_type=C&smoking_status=S&residence_type=R HTTP/1.1\" 200 -\n",
      "127.0.0.1 - - [16/Feb/2023 15:47:16] \"GET /static/output.css HTTP/1.1\" 304 -\n",
      "127.0.0.1 - - [16/Feb/2023 15:47:20] \"GET /predict?age=12&bmi=23&avg_glucose_level=123&gender=F&married=1&hypertension=0&heart_disease=0&work_type=C&smoking_status=S&residence_type=R HTTP/1.1\" 200 -\n",
      "127.0.0.1 - - [16/Feb/2023 15:47:20] \"GET /static/output.css HTTP/1.1\" 304 -\n",
      "127.0.0.1 - - [16/Feb/2023 15:47:22] \"GET /predict?age=12&bmi=23&avg_glucose_level=123&gender=F&married=1&hypertension=0&heart_disease=0&work_type=C&smoking_status=S&residence_type=U HTTP/1.1\" 200 -\n",
      "127.0.0.1 - - [16/Feb/2023 15:47:23] \"GET /static/output.css HTTP/1.1\" 304 -\n",
      "127.0.0.1 - - [16/Feb/2023 15:47:26] \"GET /predict?age=12&bmi=23&avg_glucose_level=123&gender=F&married=1&hypertension=0&heart_disease=0&work_type=C&smoking_status=N&residence_type=U HTTP/1.1\" 200 -\n",
      "127.0.0.1 - - [16/Feb/2023 15:47:26] \"GET /static/output.css HTTP/1.1\" 304 -\n",
      "127.0.0.1 - - [16/Feb/2023 15:47:33] \"GET /predict?age=12&bmi=42&avg_glucose_level=123&gender=F&married=1&hypertension=0&heart_disease=0&work_type=C&smoking_status=N&residence_type=U HTTP/1.1\" 200 -\n",
      "127.0.0.1 - - [16/Feb/2023 15:47:33] \"GET /static/output.css HTTP/1.1\" 304 -\n",
      "127.0.0.1 - - [16/Feb/2023 15:47:42] \"GET /predict?age=12&bmi=75&avg_glucose_level=123&gender=F&married=1&hypertension=0&heart_disease=0&work_type=C&smoking_status=N&residence_type=U HTTP/1.1\" 200 -\n",
      "127.0.0.1 - - [16/Feb/2023 15:47:42] \"GET /static/output.css HTTP/1.1\" 304 -\n",
      "127.0.0.1 - - [16/Feb/2023 15:47:48] \"GET /predict?age=34&bmi=75&avg_glucose_level=123&gender=F&married=1&hypertension=0&heart_disease=0&work_type=C&smoking_status=N&residence_type=U HTTP/1.1\" 200 -\n",
      "127.0.0.1 - - [16/Feb/2023 15:47:48] \"GET /static/output.css HTTP/1.1\" 304 -\n",
      "127.0.0.1 - - [16/Feb/2023 15:47:52] \"GET /predict?age=70&bmi=75&avg_glucose_level=123&gender=F&married=1&hypertension=0&heart_disease=0&work_type=C&smoking_status=N&residence_type=U HTTP/1.1\" 200 -\n",
      "127.0.0.1 - - [16/Feb/2023 15:47:52] \"GET /static/output.css HTTP/1.1\" 304 -\n",
      "127.0.0.1 - - [16/Feb/2023 15:47:57] \"GET /predict?age=70&bmi=80&avg_glucose_level=123&gender=F&married=1&hypertension=0&heart_disease=0&work_type=C&smoking_status=N&residence_type=U HTTP/1.1\" 200 -\n",
      "127.0.0.1 - - [16/Feb/2023 15:47:57] \"GET /static/output.css HTTP/1.1\" 304 -\n",
      "127.0.0.1 - - [16/Feb/2023 15:48:02] \"GET /predict?age=70&bmi=80&avg_glucose_level=257&gender=F&married=1&hypertension=0&heart_disease=0&work_type=C&smoking_status=N&residence_type=U HTTP/1.1\" 200 -\n",
      "127.0.0.1 - - [16/Feb/2023 15:48:02] \"GET /static/output.css HTTP/1.1\" 304 -\n",
      "127.0.0.1 - - [16/Feb/2023 15:48:07] \"GET /predict?age=70&bmi=80&avg_glucose_level=257&gender=F&married=1&hypertension=1&heart_disease=0&work_type=C&smoking_status=N&residence_type=U HTTP/1.1\" 200 -\n",
      "127.0.0.1 - - [16/Feb/2023 15:48:07] \"GET /static/output.css HTTP/1.1\" 304 -\n",
      "127.0.0.1 - - [16/Feb/2023 15:48:11] \"GET /predict?age=70&bmi=80&avg_glucose_level=257&gender=F&married=1&hypertension=1&heart_disease=1&work_type=C&smoking_status=N&residence_type=U HTTP/1.1\" 200 -\n",
      "127.0.0.1 - - [16/Feb/2023 15:48:11] \"GET /static/output.css HTTP/1.1\" 304 -\n",
      "127.0.0.1 - - [16/Feb/2023 15:48:15] \"GET /predict?age=70&bmi=80&avg_glucose_level=257&gender=F&married=1&hypertension=1&heart_disease=1&work_type=S&smoking_status=N&residence_type=U HTTP/1.1\" 200 -\n",
      "127.0.0.1 - - [16/Feb/2023 15:48:15] \"GET /static/output.css HTTP/1.1\" 304 -\n",
      "127.0.0.1 - - [16/Feb/2023 15:48:18] \"GET /predict?age=70&bmi=80&avg_glucose_level=257&gender=F&married=1&hypertension=1&heart_disease=1&work_type=S&smoking_status=S&residence_type=U HTTP/1.1\" 200 -\n",
      "127.0.0.1 - - [16/Feb/2023 15:48:18] \"GET /static/output.css HTTP/1.1\" 304 -\n",
      "127.0.0.1 - - [16/Feb/2023 15:48:20] \"GET /predict?age=70&bmi=80&avg_glucose_level=257&gender=F&married=1&hypertension=1&heart_disease=1&work_type=S&smoking_status=S&residence_type=R HTTP/1.1\" 200 -\n",
      "127.0.0.1 - - [16/Feb/2023 15:48:20] \"GET /static/output.css HTTP/1.1\" 304 -\n",
      "127.0.0.1 - - [16/Feb/2023 15:48:31] \"GET /predict HTTP/1.1\" 200 -\n",
      "127.0.0.1 - - [16/Feb/2023 15:48:31] \"GET /static/output.css HTTP/1.1\" 304 -\n",
      "127.0.0.1 - - [16/Feb/2023 15:48:31] \"GET /static/output.css HTTP/1.1\" 304 -\n",
      "127.0.0.1 - - [16/Feb/2023 15:49:23] \"GET /predict?age=56&bmi=56&avg_glucose_level=350&gender=F&married=0&hypertension=1&heart_disease=1&work_type=S&smoking_status=S&residence_type=U HTTP/1.1\" 200 -\n",
      "127.0.0.1 - - [16/Feb/2023 15:49:23] \"GET /static/output.css HTTP/1.1\" 304 -\n",
      "127.0.0.1 - - [16/Feb/2023 15:51:40] \"GET /predict?age=56&bmi=125&avg_glucose_level=350&gender=F&married=0&hypertension=1&heart_disease=1&work_type=S&smoking_status=S&residence_type=U HTTP/1.1\" 200 -\n",
      "127.0.0.1 - - [16/Feb/2023 15:51:40] \"GET /static/output.css HTTP/1.1\" 304 -\n",
      "127.0.0.1 - - [16/Feb/2023 15:51:54] \"GET /predict?age=1&bmi=125&avg_glucose_level=350&gender=F&married=0&hypertension=1&heart_disease=1&work_type=S&smoking_status=S&residence_type=U HTTP/1.1\" 200 -\n",
      "127.0.0.1 - - [16/Feb/2023 15:51:54] \"GET /static/output.css HTTP/1.1\" 304 -\n",
      "127.0.0.1 - - [16/Feb/2023 15:52:00] \"GET /predict?age=1&bmi=10&avg_glucose_level=350&gender=F&married=0&hypertension=1&heart_disease=1&work_type=S&smoking_status=S&residence_type=U HTTP/1.1\" 200 -\n",
      "127.0.0.1 - - [16/Feb/2023 15:52:00] \"GET /static/output.css HTTP/1.1\" 304 -\n",
      "127.0.0.1 - - [16/Feb/2023 15:52:03] \"GET /predict?age=1&bmi=10&avg_glucose_level=10&gender=F&married=0&hypertension=1&heart_disease=1&work_type=S&smoking_status=S&residence_type=U HTTP/1.1\" 200 -\n",
      "127.0.0.1 - - [16/Feb/2023 15:52:03] \"GET /static/output.css HTTP/1.1\" 304 -\n",
      "127.0.0.1 - - [16/Feb/2023 15:52:16] \"GET /static/output.css HTTP/1.1\" 304 -\n"
     ]
    }
   ],
   "source": [
    "if __name__ == '__main__':\n",
    "  app.run()"
   ]
  }
 ],
 "metadata": {
  "kernelspec": {
   "display_name": "AI",
   "language": "python",
   "name": "python3"
  },
  "language_info": {
   "codemirror_mode": {
    "name": "ipython",
    "version": 3
   },
   "file_extension": ".py",
   "mimetype": "text/x-python",
   "name": "python",
   "nbconvert_exporter": "python",
   "pygments_lexer": "ipython3",
   "version": "3.9.15"
  },
  "orig_nbformat": 4,
  "vscode": {
   "interpreter": {
    "hash": "6b17caf01a28cdcbcdf754219c90adeea93f54c2352632c342e9d58c0857a489"
   }
  }
 },
 "nbformat": 4,
 "nbformat_minor": 2
}
